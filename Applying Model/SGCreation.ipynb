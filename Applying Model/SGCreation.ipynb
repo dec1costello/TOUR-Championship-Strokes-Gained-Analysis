{
 "cells": [
  {
   "cell_type": "markdown",
   "metadata": {},
   "source": [
    "# 📚 **Installation**"
   ]
  },
  {
   "cell_type": "code",
   "execution_count": 1,
   "metadata": {},
   "outputs": [],
   "source": [
    "import bz2\n",
    "import pandas as pd\n",
    "import joblib\n",
    "import warnings\n",
    "warnings.filterwarnings(\"ignore\", category=FutureWarning, module='category_encoders.base_contrast_encoder')\n",
    "warnings.filterwarnings(\"ignore\", category=pd.errors.SettingWithCopyWarning)\n"
   ]
  },
  {
   "cell_type": "markdown",
   "metadata": {},
   "source": [
    "# 📂 **Data**"
   ]
  },
  {
   "cell_type": "code",
   "execution_count": 2,
   "metadata": {},
   "outputs": [],
   "source": [
    "result_df = pd.read_csv(\"FE_golf.csv\")"
   ]
  },
  {
   "cell_type": "markdown",
   "metadata": {},
   "source": [
    "# 🤖 **Model Import**"
   ]
  },
  {
   "cell_type": "code",
   "execution_count": 3,
   "metadata": {},
   "outputs": [],
   "source": [
    "#load saved compressed approach model\n",
    "with bz2.BZ2File('approachModel.joblib.bz2', 'rb') as f:\n",
    "    approachModel = joblib.load(f)\n",
    "\n",
    "#load saved compressed putting model\n",
    "with bz2.BZ2File('puttingModel.joblib.bz2', 'rb') as f:\n",
    "    puttingModel = joblib.load(f)"
   ]
  },
  {
   "cell_type": "markdown",
   "metadata": {},
   "source": [
    "# **⛳ Expected Strokes Predction**"
   ]
  },
  {
   "cell_type": "code",
   "execution_count": 4,
   "metadata": {},
   "outputs": [
    {
     "name": "stderr",
     "output_type": "stream",
     "text": [
      "C:\\Users\\decla\\AppData\\Local\\Packages\\PythonSoftwareFoundation.Python.3.9_qbz5n2kfra8p0\\LocalCache\\local-packages\\Python39\\site-packages\\sklearn\\preprocessing\\_encoders.py:228: UserWarning: Found unknown categories in columns [14] during transform. These unknown categories will be encoded as all zeros\n",
      "  warnings.warn(\n",
      "C:\\Users\\decla\\AppData\\Local\\Packages\\PythonSoftwareFoundation.Python.3.9_qbz5n2kfra8p0\\LocalCache\\local-packages\\Python39\\site-packages\\sklearn\\preprocessing\\_encoders.py:228: UserWarning: Found unknown categories in columns [14] during transform. These unknown categories will be encoded as all zeros\n",
      "  warnings.warn(\n"
     ]
    }
   ],
   "source": [
    "result_df['xS'] = 0\n",
    "\n",
    "#approach\n",
    "bunker_test = result_df.iloc[17]\n",
    "f = bunker_test\n",
    "input = f.to_frame().T\n",
    "\n",
    "#green\n",
    "putting_test = result_df.iloc[2]\n",
    "f = putting_test\n",
    "putting_input = f.to_frame().T\n",
    "\n",
    "for index, row in result_df.iterrows():\n",
    "\n",
    "    if row['from_location_scorer'] == 'Green':\n",
    "\n",
    "        putting_input['slope'] = row['slope']\n",
    "        putting_input['elevation'] = row['elevation']\n",
    "        putting_input['round'] = row['round']\n",
    "        putting_input['par_value'] = row['par_value']\n",
    "        putting_input['putting_dist_from_center_bins'] = row['putting_dist_from_center_bins']\n",
    "        putting_input['putting_dist_from_edge_bins'] = row['putting_dist_from_edge_bins']\n",
    "        putting_input['putting_distance_to_pin_bins'] = row['putting_distance_to_pin_bins']\n",
    "        putting_input['first_putt'] = row['first_putt']\n",
    "\n",
    "        putting_input['ISS'] = row['ISS']\n",
    "        putting_input['ISC'] = row['ISC']\n",
    "        putting_input['SSI'] = row['SSI']\n",
    "        putting_input['distance_to_pin'] = row['distance_to_pin']\n",
    "        putting_input['dist_from_edge'] = row['dist_from_edge']\n",
    "        putting_input['pin_minus_edge'] = row['pin_minus_edge']\n",
    "        putting_input['hole_completeness'] = row['hole_completeness']\n",
    "        putting_input['dist_from_center'] = row['dist_from_center']\n",
    "\n",
    "        preds = puttingModel.predict(putting_input)\n",
    "        result_df['xS'].iloc[index] = preds[0]\n",
    "\n",
    "    if row['from_location_scorer'] != 'Green':\n",
    "\n",
    "        input['round'] = row['round']\n",
    "        input['par_value'] = row['par_value']\n",
    "        input['lie'] = row['lie']\n",
    "        input['slope'] = row['slope']\n",
    "        input['elevation'] = row['elevation']\n",
    "        input['non_putting_dist_from_center_bins'] = row['non_putting_dist_from_center_bins']\n",
    "        input['non_putting_dist_from_edge_bins'] = row['non_putting_dist_from_edge_bins']\n",
    "        input['non_putting_distance_to_pin_bins'] = row['non_putting_distance_to_pin_bins']\n",
    "        input['around_the_green'] = row['around_the_green']\n",
    "        input['side_of_hole'] = row['side_of_hole']\n",
    "        input['dog_legs'] = row['dog_legs']\n",
    "        input['HCP'] = row['HCP']\n",
    "        input['shot_type'] = row['shot_type']\n",
    "        input['from_location_scorer'] = row['from_location_scorer']\n",
    "        input['from_location_laser'] = row['from_location_laser']\n",
    "\n",
    "        input['ISS'] = row['ISS']\n",
    "        input['ISC'] = row['ISC'] \n",
    "        input['SSI'] = row['SSI']\n",
    "        input['CSI'] = row['CSI']\n",
    "        input['shot'] = row['shot']\n",
    "        input['distance_to_pin'] = row['distance_to_pin']\n",
    "        input['dist_from_edge'] = row['dist_from_edge']\n",
    "        input['dist_from_center'] = row['dist_from_center']\n",
    "        input['pin_minus_edge'] = row['pin_minus_edge']\n",
    "        input['Actual Yard'] = row['Actual Yard']\n",
    "        input['yardage'] = row['yardage']\n",
    "        input['hole_completeness'] = row['hole_completeness']\n",
    "\n",
    "\n",
    "        preds = approachModel.predict(input)\n",
    "        result_df['xS'].iloc[index] = preds[0]"
   ]
  },
  {
   "cell_type": "markdown",
   "metadata": {},
   "source": [
    "# **🏌🏻 Strokes Gained Creation**"
   ]
  },
  {
   "cell_type": "code",
   "execution_count": 6,
   "metadata": {},
   "outputs": [],
   "source": [
    "result_df['SG'] = result_df['xS'] - result_df['strokes_to_hole_out']"
   ]
  },
  {
   "cell_type": "markdown",
   "metadata": {},
   "source": [
    "# 📩 **Save**"
   ]
  },
  {
   "cell_type": "code",
   "execution_count": 7,
   "metadata": {},
   "outputs": [],
   "source": [
    "result_df.to_csv('SG.csv')"
   ]
  }
 ],
 "metadata": {
  "kernelspec": {
   "display_name": "Python 3.9.13 64-bit (microsoft store)",
   "language": "python",
   "name": "python3"
  },
  "language_info": {
   "codemirror_mode": {
    "name": "ipython",
    "version": 3
   },
   "file_extension": ".py",
   "mimetype": "text/x-python",
   "name": "python",
   "nbconvert_exporter": "python",
   "pygments_lexer": "ipython3",
   "version": "3.9.13"
  },
  "orig_nbformat": 4,
  "vscode": {
   "interpreter": {
    "hash": "cc3f1365633f58878bf6ccd08574f91473489fbbeb68a878ff4f7267970404c8"
   }
  }
 },
 "nbformat": 4,
 "nbformat_minor": 2
}
